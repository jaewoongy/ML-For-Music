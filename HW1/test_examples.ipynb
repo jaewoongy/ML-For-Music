{
 "cells": [
  {
   "cell_type": "code",
   "execution_count": 6,
   "id": "153f5981",
   "metadata": {},
   "outputs": [],
   "source": [
    "import numpy as np\n",
    "from sklearn.model_selection import train_test_split\n",
    "from sklearn.linear_model import LogisticRegression\n",
    "\n",
    "import matplotlib.pyplot as plt"
   ]
  },
  {
   "cell_type": "code",
   "execution_count": 7,
   "id": "8e533747",
   "metadata": {},
   "outputs": [],
   "source": [
    "import homework1"
   ]
  },
  {
   "cell_type": "code",
   "execution_count": 8,
   "id": "59b11a91",
   "metadata": {},
   "outputs": [],
   "source": [
    "def testQ1():\n",
    "    test_notes = ['A3', 'A2', 'C#4']\n",
    "    for note in test_notes:\n",
    "        print(homework1.note_name_to_frequency(note))"
   ]
  },
  {
   "cell_type": "code",
   "execution_count": 9,
   "id": "c4a931bf",
   "metadata": {},
   "outputs": [
    {
     "ename": "NameError",
     "evalue": "name 'frequency' is not defined",
     "output_type": "error",
     "traceback": [
      "\u001b[0;31m---------------------------------------------------------------------------\u001b[0m",
      "\u001b[0;31mNameError\u001b[0m                                 Traceback (most recent call last)",
      "Cell \u001b[0;32mIn[9], line 1\u001b[0m\n\u001b[0;32m----> 1\u001b[0m testQ1()\n",
      "Cell \u001b[0;32mIn[8], line 4\u001b[0m, in \u001b[0;36mtestQ1\u001b[0;34m()\u001b[0m\n\u001b[1;32m      2\u001b[0m test_notes \u001b[38;5;241m=\u001b[39m [\u001b[38;5;124m'\u001b[39m\u001b[38;5;124mA3\u001b[39m\u001b[38;5;124m'\u001b[39m, \u001b[38;5;124m'\u001b[39m\u001b[38;5;124mA2\u001b[39m\u001b[38;5;124m'\u001b[39m, \u001b[38;5;124m'\u001b[39m\u001b[38;5;124mC#4\u001b[39m\u001b[38;5;124m'\u001b[39m]\n\u001b[1;32m      3\u001b[0m \u001b[38;5;28;01mfor\u001b[39;00m note \u001b[38;5;129;01min\u001b[39;00m test_notes:\n\u001b[0;32m----> 4\u001b[0m     \u001b[38;5;28mprint\u001b[39m(homework1\u001b[38;5;241m.\u001b[39mnote_name_to_frequency(note))\n",
      "File \u001b[0;32m~/Documents/ML-For-Music/HW1/homework1.py:56\u001b[0m, in \u001b[0;36mnote_name_to_frequency\u001b[0;34m(note_name)\u001b[0m\n\u001b[1;32m     54\u001b[0m \u001b[38;5;28;01mdef\u001b[39;00m \u001b[38;5;21mnote_name_to_frequency\u001b[39m(note_name):\n\u001b[1;32m     55\u001b[0m     \u001b[38;5;66;03m# Q1: Your code goes here\u001b[39;00m\n\u001b[0;32m---> 56\u001b[0m     \u001b[38;5;28;01mreturn\u001b[39;00m frequency\n",
      "\u001b[0;31mNameError\u001b[0m: name 'frequency' is not defined"
     ]
    }
   ],
   "source": [
    "testQ1()"
   ]
  },
  {
   "cell_type": "code",
   "execution_count": 10,
   "id": "7191ad16",
   "metadata": {},
   "outputs": [],
   "source": [
    "def vis(audio1, audio2, ran):\n",
    "    plt.figure(figsize=(10, 4))\n",
    "    plt.plot(audio1[:ran], label=\"Original\", color='blue', alpha=0.6)\n",
    "    plt.plot(audio2[:ran], label=\"Modified\", color='orange', alpha=0.8)\n",
    "    plt.legend()\n",
    "    plt.show()"
   ]
  },
  {
   "cell_type": "code",
   "execution_count": null,
   "id": "38cb8ec7",
   "metadata": {},
   "outputs": [],
   "source": [
    "def testQ2():\n",
    "    duration = 0.5 # in seconds\n",
    "    sample_rate = 44100\n",
    "    t = np.linspace(0, duration, int(sample_rate * duration), endpoint=False)\n",
    "    audio = np.sin(2 * np.pi * 880 * t) # A5 tone\n",
    "\n",
    "    faded_audio = homework1.decrease_amplitude(audio)\n",
    "    \n",
    "    vis(audio, faded_audio, 5000)"
   ]
  },
  {
   "cell_type": "code",
   "execution_count": null,
   "id": "d3f75b36",
   "metadata": {},
   "outputs": [],
   "source": [
    "testQ2()"
   ]
  },
  {
   "cell_type": "code",
   "execution_count": null,
   "id": "ed4da05b",
   "metadata": {},
   "outputs": [],
   "source": [
    "def testQ3():\n",
    "    duration = 1.0  # in seconds\n",
    "    sample_rate = 44100\n",
    "    t = np.linspace(0, duration, int(sample_rate * duration), endpoint=False)\n",
    "    audio = np.sin(2 * np.pi * 880 * t)  # A5 tone\n",
    "\n",
    "    delayed_audio = homework1.add_delay_effects(audio)\n",
    "    \n",
    "    vis(audio, delayed_audio, 5000)"
   ]
  },
  {
   "cell_type": "code",
   "execution_count": null,
   "id": "8fd83943",
   "metadata": {},
   "outputs": [],
   "source": [
    "testQ3()"
   ]
  },
  {
   "cell_type": "code",
   "execution_count": null,
   "id": "93f201e8",
   "metadata": {},
   "outputs": [],
   "source": [
    "def testQ4a():\n",
    "    duration = 0.5 # in seconds\n",
    "    sample_rate = 44100\n",
    "    t = np.linspace(0, duration, int(sample_rate * duration), endpoint=False)\n",
    "    audio1 = np.sin(2 * np.pi * 220 * t) # A3 tone\n",
    "    audio2 = np.sin(2 * np.pi * 880 * t) # A5 tone\n",
    "\n",
    "    concat_audio = homework1.concatenate_audio([audio1, audio2])\n",
    "    \n",
    "    # Visualize here..."
   ]
  },
  {
   "cell_type": "code",
   "execution_count": null,
   "id": "55dabad5",
   "metadata": {},
   "outputs": [],
   "source": [
    "testQ4a()"
   ]
  },
  {
   "cell_type": "code",
   "execution_count": null,
   "id": "2d6c31b6",
   "metadata": {},
   "outputs": [],
   "source": [
    "def testQ4b():\n",
    "    duration = 0.8  # in seconds\n",
    "    sample_rate = 44100\n",
    "    t = np.linspace(0, duration, int(sample_rate * duration), endpoint=False)\n",
    "    audio1 = np.sin(2 * np.pi * 220 * t) # A3 tone\n",
    "    audio2 = np.sin(2 * np.pi * 440 * t) # A4 tone\n",
    "\n",
    "    mix_audio = homework1.mix_audio([audio1, audio2], [0.2, 0.8])\n",
    "    \n",
    "    # Visualize here..."
   ]
  },
  {
   "cell_type": "code",
   "execution_count": null,
   "id": "3cb81a1a",
   "metadata": {},
   "outputs": [],
   "source": [
    "testQ4b()"
   ]
  },
  {
   "cell_type": "code",
   "execution_count": null,
   "id": "ac6c32be",
   "metadata": {},
   "outputs": [],
   "source": []
  },
  {
   "cell_type": "code",
   "execution_count": null,
   "id": "1b3ac031",
   "metadata": {},
   "outputs": [],
   "source": [
    "def testQ5():\n",
    "    yours = homework1.create_sawtooth_wave(440, 2.0, 22050)\n",
    "    \n",
    "    plt.figure(figsize=(10, 4))\n",
    "    plt.plot(yours[:5000], label=\"sawtooth\", color='blue', alpha=0.6)\n",
    "    plt.show()"
   ]
  },
  {
   "cell_type": "code",
   "execution_count": null,
   "id": "8482d387",
   "metadata": {},
   "outputs": [],
   "source": [
    "testQ5()"
   ]
  },
  {
   "cell_type": "code",
   "execution_count": null,
   "id": "19f20bc4",
   "metadata": {},
   "outputs": [],
   "source": [
    "def testQ6():\n",
    "    piano_files, drum_files = homework1.get_file_lists()\n",
    "    \n",
    "    yours = list(homework1.get_stats(piano_files[:2], drum_files[:2]).values())\n",
    "    \n",
    "    print(yours) # Should be a list of length 4"
   ]
  },
  {
   "cell_type": "code",
   "execution_count": null,
   "id": "42db48f4",
   "metadata": {},
   "outputs": [],
   "source": [
    "testQ6()"
   ]
  },
  {
   "cell_type": "code",
   "execution_count": null,
   "id": "841e9d43",
   "metadata": {},
   "outputs": [],
   "source": [
    "def testQ7():\n",
    "    piano_files, drum_files = homework1.get_file_lists()\n",
    "\n",
    "    yours = []\n",
    "    \n",
    "    for file_path in piano_files[:2]:\n",
    "        yours.append(homework1.get_lowest_pitch(file_path))\n",
    "    \n",
    "    for file_path in piano_files[:2]:\n",
    "        yours.append(homework1.get_highest_pitch(file_path))\n",
    "        \n",
    "    for file_path in piano_files[:2]:\n",
    "        yours.append(homework1.get_unique_pitch_num(file_path))\n",
    "    \n",
    "    print(yours)"
   ]
  },
  {
   "cell_type": "code",
   "execution_count": null,
   "id": "e82141a8",
   "metadata": {},
   "outputs": [],
   "source": [
    "testQ7()"
   ]
  },
  {
   "cell_type": "code",
   "execution_count": null,
   "id": "c6191005",
   "metadata": {},
   "outputs": [],
   "source": [
    "def testQ8():\n",
    "    piano_files, drum_files = homework1.get_file_lists()\n",
    "\n",
    "    yours = []\n",
    "\n",
    "    for file_path in piano_files[:5]:\n",
    "        yours.append(homework1.get_average_pitch_value(file_path))\n",
    "    \n",
    "    print(yours)"
   ]
  },
  {
   "cell_type": "code",
   "execution_count": null,
   "id": "e0ef12f5",
   "metadata": {},
   "outputs": [],
   "source": [
    "testQ8()"
   ]
  },
  {
   "cell_type": "code",
   "execution_count": null,
   "id": "8718ff42",
   "metadata": {},
   "outputs": [],
   "source": [
    "def train(feat): # Feat specifies which feature function will be used (i.e., featureQ9 or featureQ10)\n",
    "    piano_paths, drum_paths = homework1.get_file_lists()\n",
    "    piano_paths, drum_paths = piano_paths[:100], drum_paths[:100]\n",
    "    \n",
    "    X = []\n",
    "    y = []\n",
    "    \n",
    "    for p in piano_paths:\n",
    "        X.append(feat(p))\n",
    "        y.append(1)\n",
    "    for p in drum_paths:\n",
    "        X.append(feat(p))\n",
    "        y.append(0)\n",
    "    \n",
    "    # Split into train/test\n",
    "    X_train, X_test, y_train, y_test = train_test_split(X, y, test_size=0.2, random_state=42)\n",
    "\n",
    "    # Train model\n",
    "    model = LogisticRegression()\n",
    "    model.fit(X_train, y_train)\n",
    "\n",
    "    # Predict\n",
    "    y_pred = model.predict(X_test)\n",
    "    \n",
    "    return sum(y_pred == y_test) / len(y_test) # Accuracy"
   ]
  },
  {
   "cell_type": "code",
   "execution_count": null,
   "id": "17733b73",
   "metadata": {},
   "outputs": [],
   "source": [
    "def testQ9():\n",
    "    yours = train(homework1.featureQ9)\n",
    "    print(\"Accuracy = \" + str(yours))"
   ]
  },
  {
   "cell_type": "code",
   "execution_count": null,
   "id": "f82af43d",
   "metadata": {},
   "outputs": [],
   "source": [
    "testQ9()"
   ]
  },
  {
   "cell_type": "code",
   "execution_count": null,
   "id": "35dc311c",
   "metadata": {},
   "outputs": [],
   "source": [
    "def testQ10():\n",
    "    yours9 = train(homework1.featureQ9)\n",
    "    yours10 = train(homework1.featureQ10)\n",
    "    print(\"Q9 accuracy = \" + str(yours9) + \", Q10 accuracy = \" + str(yours10))"
   ]
  },
  {
   "cell_type": "code",
   "execution_count": null,
   "id": "0fde5a48",
   "metadata": {},
   "outputs": [],
   "source": [
    "testQ10()"
   ]
  },
  {
   "cell_type": "code",
   "execution_count": null,
   "id": "bded88e9",
   "metadata": {},
   "outputs": [],
   "source": []
  }
 ],
 "metadata": {
  "kernelspec": {
   "display_name": "Python 3",
   "language": "python",
   "name": "python3"
  },
  "language_info": {
   "codemirror_mode": {
    "name": "ipython",
    "version": 3
   },
   "file_extension": ".py",
   "mimetype": "text/x-python",
   "name": "python",
   "nbconvert_exporter": "python",
   "pygments_lexer": "ipython3",
   "version": "3.11.7"
  }
 },
 "nbformat": 4,
 "nbformat_minor": 5
}
